{
 "cells": [
  {
   "cell_type": "markdown",
   "metadata": {},
   "source": [
    "# ReAct"
   ]
  },
  {
   "cell_type": "code",
   "execution_count": 24,
   "metadata": {},
   "outputs": [],
   "source": [
    "import datetime\n",
    "\n",
    "from dotenv import load_dotenv\n",
    "from langchain_community.chat_models import ChatZhipuAI\n",
    "\n",
    "load_dotenv()\n",
    "\n",
    "llm = ChatZhipuAI(model=\"GLM-4-Plus\")"
   ]
  },
  {
   "cell_type": "code",
   "execution_count": 25,
   "metadata": {},
   "outputs": [],
   "source": [
    "from langchain_community.tools.tavily_search import TavilySearchResults\n",
    "from langchain_community.tools import GoogleSerperResults\n",
    "from langchain_community.utilities.tavily_search import TavilySearchAPIWrapper\n",
    "from langchain_community.utilities import GoogleSerperAPIWrapper\n",
    "\n",
    "# https://python.langchain.com/docs/integrations/tools/\n",
    "\n",
    "# TAVILY_API_KEY\n",
    "# https://api.tavily.com\n",
    "tavily_search = TavilySearchResults(\n",
    "    api_wrapper=TavilySearchAPIWrapper(), max_results=3)\n",
    "\n",
    "# SERPER_API_KEY\n",
    "# https://serper.dev/api-key\n",
    "serper_search = GoogleSerperResults(\n",
    "    api_wrapper=GoogleSerperAPIWrapper(), max_results=3)\n",
    "\n",
    "# https://duckduckgo.com/ 梯子\n",
    "# duck_duck_go_search = DuckDuckGoSearchResults(max_results=3, output_format=\"json\")\n",
    "\n",
    "# https://github.com/searxng/searxng\n",
    "# https://github.com/searxng/searxng-docker\n",
    "# searx_search = SearxSearchResults(max_results=3)\n",
    "\n",
    "query = \"明年是中国农历什么年？\"\n",
    "\n",
    "# tavily_result = tavily_search.invoke({\"query\": query})\n",
    "# print(\"tavily_result\", tavily_result)\n",
    "# serper_result = serper_search.invoke({\"query\": query})\n",
    "# print(\"serper_result\", serper_result)"
   ]
  },
  {
   "cell_type": "code",
   "execution_count": 26,
   "metadata": {},
   "outputs": [
    {
     "name": "stdout",
     "output_type": "stream",
     "text": [
      "明年，即2025年，是中国农历的乙巳年，也就是蛇年。这一年的农历起止时间是2025年1月29日至2026年2月16日。同时，2025年也是一个平年，共有365天，但由于有闰月，所以在农历的一年里会有两个立春，因此也被称为双春年。\n"
     ]
    }
   ],
   "source": [
    "from langchain_core.prompts import ChatPromptTemplate, MessagesPlaceholder\n",
    "from langgraph.prebuilt import create_react_agent\n",
    "\n",
    "search_tools = [tavily_search, serper_search]\n",
    "\n",
    "prompt_template = ChatPromptTemplate.from_messages([\n",
    "    (\"system\", \"You are a helpful assistant. Current time: {time}\"),\n",
    "    MessagesPlaceholder(\"messages\")\n",
    "]).partial(\n",
    "    time=lambda: datetime.datetime.now().isoformat(),\n",
    ")\n",
    "\n",
    "agent_executor = create_react_agent(\n",
    "    model=llm,\n",
    "    tools=search_tools,\n",
    "    state_modifier=prompt_template\n",
    ")\n",
    "\n",
    "response = agent_executor.invoke(\n",
    "    {\"messages\": [(\"user\", query)]}\n",
    ")\n",
    "\n",
    "print(response['messages'][-1].content)"
   ]
  }
 ],
 "metadata": {
  "kernelspec": {
   "display_name": "lg_env",
   "language": "python",
   "name": "python3"
  },
  "language_info": {
   "codemirror_mode": {
    "name": "ipython",
    "version": 3
   },
   "file_extension": ".py",
   "mimetype": "text/x-python",
   "name": "python",
   "nbconvert_exporter": "python",
   "pygments_lexer": "ipython3",
   "version": "3.13.0"
  }
 },
 "nbformat": 4,
 "nbformat_minor": 2
}
