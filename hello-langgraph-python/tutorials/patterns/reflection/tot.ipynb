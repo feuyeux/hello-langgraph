{
 "cells": [
  {
   "cell_type": "markdown",
   "metadata": {},
   "source": [
    "# Tree of Thoughts\n",
    "\n",
    "https://github.com/langchain-ai/langgraph/blob/main/docs/docs/tutorials/tot/tot.ipynb\n",
    "\n",
    "[Tree of Thoughts](https://arxiv.org/abs/2305.10601) (ToT), by Yao, et. al, is a general LLM agent search algorithm that combines reflection/evaluation and simple search (in this case BFS, though you can apply DFS or other algorithms if you'd like).\n",
    "\n",
    "It has three main steps:\n",
    "\n",
    "1. **Expand**: generate 1 or more candidate solutions to the problem.\n",
    "2. **Score**: measure the quality of the responses.\n",
    "3. **Prune**: retain the top K best candidates\n",
    "\n",
    "Then return to \"Expand\" if no solution is found (or if the solution is of insufficient quality)."
   ]
  },
  {
   "cell_type": "code",
   "execution_count": 1,
   "metadata": {},
   "outputs": [
    {
     "data": {
      "text/plain": [
       "True"
      ]
     },
     "execution_count": 1,
     "metadata": {},
     "output_type": "execute_result"
    }
   ],
   "source": [
    "from dotenv import load_dotenv\n",
    "load_dotenv()"
   ]
  },
  {
   "cell_type": "markdown",
   "metadata": {},
   "source": [
    "## Task Definition\n",
    "\n",
    "Our agent will try to play the \"Game of 24\". Given 4 numbers, it must generate a math equation that uses each of these numbers exactly one time to evaluate to a value of `24`."
   ]
  },
  {
   "cell_type": "code",
   "execution_count": 2,
   "metadata": {},
   "outputs": [],
   "source": [
    "import operator\n",
    "from typing import List, Literal, Union, NamedTuple, Optional\n",
    "from pydantic import BaseModel, Field\n",
    "\n",
    "OperatorType = Literal[\"+\", \"-\", \"*\", \"/\"]\n",
    "TokenType = Union[float, OperatorType]\n",
    "\n",
    "## We use these schemas to prompt the LLM to generate equations that evaluate to 24.\n",
    "\n",
    "\n",
    "class Equation(BaseModel):\n",
    "    \"\"\"The formula combining the provided numbers to reach the target of 24.\"\"\"\n",
    "\n",
    "    tokens: List[TokenType] = Field(\n",
    "        description=\"The stack of tokens and operators in reverse-polish notation. Example: [3, 4, '+', -1, '*'] would evaluate to (3 + 4) * -1 = -7.\",\n",
    "    )\n",
    "\n",
    "    def compute(self) -> float:\n",
    "        op_funcs = {\n",
    "            \"+\": operator.add,\n",
    "            \"-\": operator.sub,\n",
    "            \"*\": operator.mul,\n",
    "            \"/\": operator.truediv,\n",
    "        }\n",
    "        stack = []\n",
    "        for token in self.tokens:\n",
    "            if isinstance(token, float):\n",
    "                stack.append(token)\n",
    "            else:\n",
    "                b, a = stack.pop(), stack.pop()\n",
    "                stack.append(op_funcs[token](a, b))\n",
    "\n",
    "        return stack[0]\n",
    "\n",
    "\n",
    "class GuessEquations(BaseModel):\n",
    "    \"\"\"Submit multiple equations as guesses.\"\"\"\n",
    "\n",
    "    reasoning: str = Field(\n",
    "        description=\"The reasoning behind the submitted guesses. Explain how you arrived at these equations.\"\n",
    "    )\n",
    "\n",
    "    equations: List[Equation] = Field(\n",
    "        description=\"The list of equations to submit as guesses.\"\n",
    "    )\n",
    "\n",
    "\n",
    "## These objects will represent a single \"candidate\" (or scored candidate) within our agent's state.\n",
    "# You can update the candidate object to match your own task.\n",
    "\n",
    "\n",
    "class Candidate(NamedTuple):\n",
    "    candidate: Equation\n",
    "    score: Optional[float] = None\n",
    "    feedback: Optional[str] = None\n",
    "\n",
    "    def __str__(self):\n",
    "        try:\n",
    "            computed = self.candidate.compute()\n",
    "        except Exception as e:\n",
    "            computed = f\"Invalid equation: {self.candidate.tokens}; Error: {repr(e)}\"\n",
    "\n",
    "        return f\"Equation({self.candidate.tokens}) = {computed} (Reward: {self.score})\"\n",
    "\n",
    "\n",
    "class ScoredCandidate(Candidate):\n",
    "    candidate: Equation\n",
    "    score: float\n",
    "    feedback: str"
   ]
  },
  {
   "cell_type": "markdown",
   "metadata": {},
   "source": [
    "#### Fetch data\n",
    "\n",
    "We'll use an example from the [Game of 24](https://github.com/princeton-nlp/tree-of-thought-llm) dataset."
   ]
  },
  {
   "cell_type": "code",
   "execution_count": null,
   "metadata": {},
   "outputs": [
    {
     "name": "stdout",
     "output_type": "stream",
     "text": [
      "Example puzzles: ['1 1 4 6', '1 1 11 11', '1 1 3 8']\n"
     ]
    }
   ],
   "source": [
    "import csv\n",
    "from pathlib import Path\n",
    "\n",
    "# Use path relative to project root\n",
    "project_root = Path().resolve().parent.parent.parent\n",
    "data_file = project_root / \"data/24.csv\"\n",
    "\n",
    "with open(data_file, \"r\") as file:\n",
    "    csv_data = file.read()\n",
    "# Get just the Puzzles column (column index 1)\n",
    "puzzles = [row[1].strip() for row in csv.reader(csv_data.splitlines()[1:])]\n",
    "\n",
    "print(f\"Example puzzles: {puzzles[:3]}\")"
   ]
  },
  {
   "cell_type": "markdown",
   "metadata": {},
   "source": [
    "## Expander\n",
    "\n",
    "The \"tree of thoughts\" algorithm is relatively generic. The primary two task-specific components are the **expander** and the **scorer**.\n",
    "The expander (the augmented LLM) tries to generate 1 or more solutions to the problem. On subsequent attempts, it is given a seed/candidate value from \n",
    "the previous search.\n",
    "\n",
    "You can update this section to match your own task requirements. The expander can be arbitrarily complex. All that's required is that it accepts the problem and an optional previous attempt (or attempts) and returns a new result."
   ]
  },
  {
   "cell_type": "code",
   "execution_count": 4,
   "metadata": {},
   "outputs": [],
   "source": [
    "from langchain_openai import ChatOpenAI\n",
    "from langchain_community.chat_models import QianfanChatEndpoint\n",
    "llm = QianfanChatEndpoint(\n",
    "    model=\"ERNIE-3.5-8K\",\n",
    "    temperature=0.2,\n",
    "    timeout=30,\n",
    ")\n",
    "llm2 = ChatOpenAI(\n",
    "    model=\"llama3.2\",\n",
    "    base_url=\"http://localhost:11434/v1\",\n",
    ")"
   ]
  },
  {
   "cell_type": "code",
   "execution_count": 5,
   "metadata": {},
   "outputs": [],
   "source": [
    "from langchain_core.prompts import ChatPromptTemplate\n",
    "\n",
    "prompt = ChatPromptTemplate.from_messages(\n",
    "    [\n",
    "        (\n",
    "            \"system\",\n",
    "            \"You are playing the Game of 24. Using the provide numbers, create an equation that evaluates to 24.\\n\"\n",
    "            \"Submit exactly {k} guesses for this round.\",\n",
    "        ),\n",
    "        (\"user\", \"Solve the 24 game for these numbers: {problem}.{candidate}\"),\n",
    "    ],\n",
    ").partial(candidate=\"\")\n",
    "\n",
    "bound_llm = llm.with_structured_output(GuessEquations)\n",
    "solver = prompt | bound_llm"
   ]
  },
  {
   "cell_type": "markdown",
   "metadata": {},
   "source": [
    "# Scorer\n",
    "\n",
    "In this game, the scorer is easy. We need to assert two things:\n",
    "\n",
    "1. The LLM has generated a valid equation using each number exactly one time.\n",
    "2. The equation evaluates to 24.\n",
    "\n",
    "You can update this function to match your own task requirements."
   ]
  },
  {
   "cell_type": "code",
   "execution_count": null,
   "metadata": {},
   "outputs": [],
   "source": [
    "import csv\n",
    "from pathlib import Path\n",
    "\n",
    "# Use path relative to project root\n",
    "project_root = Path().resolve().parent.parent.parent\n",
    "data_file = project_root / \"data/24.csv\"\n",
    "\n",
    "# Read the CSV file and find the row that matches the game_id\n",
    "with open(data_file, \"r\") as file:\n",
    "    reader = csv.DictReader(file)\n",
    "    for row in reader:\n",
    "        if row[\"game_id\"] == str(game_id):\n",
    "            # Create the 4x6 grid\n",
    "            grid = []\n",
    "            for i in range(1, 5):\n",
    "                grid.append(list(map(int, row[f\"puzzle{i}\"].split())))\n",
    "\n",
    "            # Find the initial state (numbers that are already placed)\n",
    "            initial_state = {(i, j) for i in range(4) for j in range(6) if grid[i][j] != 0}\n",
    "            break\n",
    "print(grid)\n",
    "print(initial_state)"
   ]
  },
  {
   "cell_type": "markdown",
   "metadata": {},
   "source": [
    "## Graph\n",
    "\n",
    "Now it's time to create our graph."
   ]
  },
  {
   "cell_type": "code",
   "execution_count": 7,
   "metadata": {},
   "outputs": [],
   "source": [
    "import operator\n",
    "from typing import Optional, Dict, Any\n",
    "from typing_extensions import Annotated, TypedDict\n",
    "from langgraph.graph import StateGraph\n",
    "\n",
    "from langchain_core.runnables import RunnableConfig\n",
    "from langgraph.constants import Send\n",
    "from langgraph.checkpoint.memory import MemorySaver\n",
    "\n",
    "\n",
    "def update_candidates(\n",
    "    existing: Optional[list] = None,\n",
    "    updates: Optional[Union[list, Literal[\"clear\"]]] = None,\n",
    ") -> List[str]:\n",
    "    if existing is None:\n",
    "        existing = []\n",
    "    if updates is None:\n",
    "        return existing\n",
    "    if updates == \"clear\":\n",
    "        return []\n",
    "    # Concatenate the lists\n",
    "    return existing + updates\n",
    "\n",
    "\n",
    "class ToTState(TypedDict):\n",
    "    problem: str\n",
    "    candidates: Annotated[List[Candidate], update_candidates]\n",
    "    scored_candidates: Annotated[List[ScoredCandidate], update_candidates]\n",
    "    depth: Annotated[int, operator.add]\n",
    "\n",
    "\n",
    "class Configuration(TypedDict, total=False):\n",
    "    max_depth: int\n",
    "    threshold: float\n",
    "    k: int\n",
    "    beam_size: int\n",
    "\n",
    "\n",
    "def _ensure_configurable(config: RunnableConfig) -> Configuration:\n",
    "    \"\"\"Get params that configure the search algorithm.\"\"\"\n",
    "    configurable = config.get(\"configurable\", {})\n",
    "    return {\n",
    "        **configurable,\n",
    "        \"max_depth\": configurable.get(\"max_depth\", 10),\n",
    "        \"threshold\": config.get(\"threshold\", 0.9),\n",
    "        \"k\": configurable.get(\"k\", 5),\n",
    "        \"beam_size\": configurable.get(\"beam_size\", 3),\n",
    "    }\n",
    "\n",
    "\n",
    "class ExpansionState(ToTState):\n",
    "    seed: Optional[Candidate]\n",
    "\n",
    "\n",
    "def expand(state: ExpansionState, *, config: RunnableConfig) -> Dict[str, List[str]]:\n",
    "    \"\"\"Generate the next state.\"\"\"\n",
    "    configurable = _ensure_configurable(config)\n",
    "    if not state.get(\"seed\"):\n",
    "        candidate_str = \"\"\n",
    "    else:\n",
    "        candidate_str = \"\\n\\n\" + str(state[\"seed\"])\n",
    "    try:\n",
    "        equation_submission = solver.invoke(\n",
    "            {\n",
    "                \"problem\": state[\"problem\"],\n",
    "                \"candidate\": candidate_str,\n",
    "                \"k\": configurable[\"k\"],\n",
    "            },\n",
    "            config=config,\n",
    "        )\n",
    "    except Exception:\n",
    "        return {\"candidates\": []}\n",
    "    new_candidates = [\n",
    "        Candidate(candidate=equation) for equation in equation_submission.equations\n",
    "    ]\n",
    "    return {\"candidates\": new_candidates}\n",
    "\n",
    "\n",
    "def score(state: ToTState) -> Dict[str, List[float]]:\n",
    "    \"\"\"Evaluate the candidate generations.\"\"\"\n",
    "    candidates = state[\"candidates\"]\n",
    "    scored = []\n",
    "    for candidate in candidates:\n",
    "        scored.append(compute_score(state[\"problem\"], candidate))\n",
    "    return {\"scored_candidates\": scored, \"candidates\": \"clear\"}\n",
    "\n",
    "\n",
    "def prune(\n",
    "    state: ToTState, *, config: RunnableConfig\n",
    ") -> Dict[str, List[Dict[str, Any]]]:\n",
    "    scored_candidates = state[\"scored_candidates\"]\n",
    "    beam_size = _ensure_configurable(config)[\"beam_size\"]\n",
    "    organized = sorted(\n",
    "        scored_candidates, key=lambda candidate: candidate[1], reverse=True\n",
    "    )\n",
    "    pruned = organized[:beam_size]\n",
    "    return {\n",
    "        # Update the starting point for the next iteration\n",
    "        \"candidates\": pruned,\n",
    "        # Clear the old memory\n",
    "        \"scored_candidates\": \"clear\",\n",
    "        # Increment the depth by 1\n",
    "        \"depth\": 1,\n",
    "    }\n",
    "\n",
    "\n",
    "def should_terminate(\n",
    "    state: ToTState, config: RunnableConfig\n",
    ") -> Union[Literal[\"__end__\"], Send]:\n",
    "    configurable = _ensure_configurable(config)\n",
    "    solved = state[\"candidates\"][0].score >= configurable[\"threshold\"]\n",
    "    if solved or state[\"depth\"] >= configurable[\"max_depth\"]:\n",
    "        return \"__end__\"\n",
    "    return [\n",
    "        Send(\"expand\", {**state, \"somevalseed\": candidate})\n",
    "        for candidate in state[\"candidates\"]\n",
    "    ]\n",
    "\n",
    "\n",
    "# Create the graph\n",
    "builder = StateGraph(state_schema=ToTState, config_schema=Configuration)\n",
    "\n",
    "# Add nodes\n",
    "builder.add_node(expand)\n",
    "builder.add_node(score)\n",
    "builder.add_node(prune)\n",
    "\n",
    "# Add edges\n",
    "builder.add_edge(\"expand\", \"score\")\n",
    "builder.add_edge(\"score\", \"prune\")\n",
    "builder.add_conditional_edges(\"prune\", should_terminate, path_map=[\"expand\", \"__end__\"])\n",
    "\n",
    "# Set entry point\n",
    "builder.add_edge(\"__start__\", \"expand\")\n",
    "\n",
    "# Compile the graph\n",
    "graph = builder.compile(checkpointer=MemorySaver())"
   ]
  },
  {
   "cell_type": "code",
   "execution_count": 8,
   "metadata": {},
   "outputs": [
    {
     "data": {
      "image/png": "[encoded data removed]",
      "text/plain": [
       "<IPython.core.display.Image object>"
      ]
     },
     "metadata": {},
     "output_type": "display_data"
    }
   ],
   "source": [
    "from IPython.display import Image, display\n",
    "\n",
    "display(Image(graph.get_graph().draw_mermaid_png()))"
   ]
  },
  {
   "cell_type": "markdown",
   "metadata": {},
   "source": [
    "## Run\n",
    "\n",
    "Now let's try it on one of the puzzles!"
   ]
  },
  {
   "cell_type": "code",
   "execution_count": 11,
   "metadata": {},
   "outputs": [
    {
     "name": "stdout",
     "output_type": "stream",
     "text": [
      "{'expand': {'candidates': [Candidate(candidate=Equation(tokens=[1.0, 5.0, 7.0, 12.0]), score=None, feedback=None)]}}\n"
     ]
    },
    {
     "ename": "AttributeError",
     "evalue": "'list' object has no attribute 'candidate'",
     "output_type": "error",
     "traceback": [
      "\u001b[0;31m---------------------------------------------------------------------------\u001b[0m",
      "\u001b[0;31mAttributeError\u001b[0m                            Traceback (most recent call last)",
      "Cell \u001b[0;32mIn[11], line 8\u001b[0m\n\u001b[1;32m      1\u001b[0m config \u001b[38;5;241m=\u001b[39m {\n\u001b[1;32m      2\u001b[0m     \u001b[38;5;124m\"\u001b[39m\u001b[38;5;124mconfigurable\u001b[39m\u001b[38;5;124m\"\u001b[39m: {\n\u001b[1;32m      3\u001b[0m         \u001b[38;5;124m\"\u001b[39m\u001b[38;5;124mthread_id\u001b[39m\u001b[38;5;124m\"\u001b[39m: \u001b[38;5;124m\"\u001b[39m\u001b[38;5;124mtest_1\u001b[39m\u001b[38;5;124m\"\u001b[39m,\n\u001b[0;32m   (...)\u001b[0m\n\u001b[1;32m      6\u001b[0m     }\n\u001b[1;32m      7\u001b[0m }\n\u001b[0;32m----> 8\u001b[0m \u001b[38;5;28;43;01mfor\u001b[39;49;00m\u001b[43m \u001b[49m\u001b[43mstep\u001b[49m\u001b[43m \u001b[49m\u001b[38;5;129;43;01min\u001b[39;49;00m\u001b[43m \u001b[49m\u001b[43mgraph\u001b[49m\u001b[38;5;241;43m.\u001b[39;49m\u001b[43mstream\u001b[49m\u001b[43m(\u001b[49m\u001b[43m{\u001b[49m\u001b[38;5;124;43m\"\u001b[39;49m\u001b[38;5;124;43mproblem\u001b[39;49m\u001b[38;5;124;43m\"\u001b[39;49m\u001b[43m:\u001b[49m\u001b[43m \u001b[49m\u001b[43mpuzzles\u001b[49m\u001b[43m[\u001b[49m\u001b[38;5;241;43m42\u001b[39;49m\u001b[43m]\u001b[49m\u001b[43m}\u001b[49m\u001b[43m,\u001b[49m\u001b[43m \u001b[49m\u001b[43mconfig\u001b[49m\u001b[43m)\u001b[49m\u001b[43m:\u001b[49m\n\u001b[1;32m      9\u001b[0m \u001b[43m    \u001b[49m\u001b[38;5;28;43mprint\u001b[39;49m\u001b[43m(\u001b[49m\u001b[43mstep\u001b[49m\u001b[43m)\u001b[49m\n",
      "File \u001b[0;32m~/coding/feuyeux/hello-langgraph/lg_env/lib/python3.13/site-packages/langgraph/pregel/__init__.py:1656\u001b[0m, in \u001b[0;36mPregel.stream\u001b[0;34m(self, input, config, stream_mode, output_keys, interrupt_before, interrupt_after, debug, subgraphs)\u001b[0m\n\u001b[1;32m   1650\u001b[0m     \u001b[38;5;66;03m# Similarly to Bulk Synchronous Parallel / Pregel model\u001b[39;00m\n\u001b[1;32m   1651\u001b[0m     \u001b[38;5;66;03m# computation proceeds in steps, while there are channel updates\u001b[39;00m\n\u001b[1;32m   1652\u001b[0m     \u001b[38;5;66;03m# channel updates from step N are only visible in step N+1\u001b[39;00m\n\u001b[1;32m   1653\u001b[0m     \u001b[38;5;66;03m# channels are guaranteed to be immutable for the duration of the step,\u001b[39;00m\n\u001b[1;32m   1654\u001b[0m     \u001b[38;5;66;03m# with channel updates applied only at the transition between steps\u001b[39;00m\n\u001b[1;32m   1655\u001b[0m     \u001b[38;5;28;01mwhile\u001b[39;00m loop\u001b[38;5;241m.\u001b[39mtick(input_keys\u001b[38;5;241m=\u001b[39m\u001b[38;5;28mself\u001b[39m\u001b[38;5;241m.\u001b[39minput_channels):\n\u001b[0;32m-> 1656\u001b[0m \u001b[43m        \u001b[49m\u001b[38;5;28;43;01mfor\u001b[39;49;00m\u001b[43m \u001b[49m\u001b[43m_\u001b[49m\u001b[43m \u001b[49m\u001b[38;5;129;43;01min\u001b[39;49;00m\u001b[43m \u001b[49m\u001b[43mrunner\u001b[49m\u001b[38;5;241;43m.\u001b[39;49m\u001b[43mtick\u001b[49m\u001b[43m(\u001b[49m\n\u001b[1;32m   1657\u001b[0m \u001b[43m            \u001b[49m\u001b[43mloop\u001b[49m\u001b[38;5;241;43m.\u001b[39;49m\u001b[43mtasks\u001b[49m\u001b[38;5;241;43m.\u001b[39;49m\u001b[43mvalues\u001b[49m\u001b[43m(\u001b[49m\u001b[43m)\u001b[49m\u001b[43m,\u001b[49m\n\u001b[1;32m   1658\u001b[0m \u001b[43m            \u001b[49m\u001b[43mtimeout\u001b[49m\u001b[38;5;241;43m=\u001b[39;49m\u001b[38;5;28;43mself\u001b[39;49m\u001b[38;5;241;43m.\u001b[39;49m\u001b[43mstep_timeout\u001b[49m\u001b[43m,\u001b[49m\n\u001b[1;32m   1659\u001b[0m \u001b[43m            \u001b[49m\u001b[43mretry_policy\u001b[49m\u001b[38;5;241;43m=\u001b[39;49m\u001b[38;5;28;43mself\u001b[39;49m\u001b[38;5;241;43m.\u001b[39;49m\u001b[43mretry_policy\u001b[49m\u001b[43m,\u001b[49m\n\u001b[1;32m   1660\u001b[0m \u001b[43m            \u001b[49m\u001b[43mget_waiter\u001b[49m\u001b[38;5;241;43m=\u001b[39;49m\u001b[43mget_waiter\u001b[49m\u001b[43m,\u001b[49m\n\u001b[1;32m   1661\u001b[0m \u001b[43m        \u001b[49m\u001b[43m)\u001b[49m\u001b[43m:\u001b[49m\n\u001b[1;32m   1662\u001b[0m \u001b[43m            \u001b[49m\u001b[38;5;66;43;03m# emit output\u001b[39;49;00m\n\u001b[1;32m   1663\u001b[0m \u001b[43m            \u001b[49m\u001b[38;5;28;43;01myield from\u001b[39;49;00m\u001b[43m \u001b[49m\u001b[43moutput\u001b[49m\u001b[43m(\u001b[49m\u001b[43m)\u001b[49m\n\u001b[1;32m   1664\u001b[0m \u001b[38;5;66;03m# emit output\u001b[39;00m\n",
      "File \u001b[0;32m~/coding/feuyeux/hello-langgraph/lg_env/lib/python3.13/site-packages/langgraph/pregel/runner.py:167\u001b[0m, in \u001b[0;36mPregelRunner.tick\u001b[0;34m(self, tasks, reraise, timeout, retry_policy, get_waiter)\u001b[0m\n\u001b[1;32m    165\u001b[0m t \u001b[38;5;241m=\u001b[39m tasks[\u001b[38;5;241m0\u001b[39m]\n\u001b[1;32m    166\u001b[0m \u001b[38;5;28;01mtry\u001b[39;00m:\n\u001b[0;32m--> 167\u001b[0m     \u001b[43mrun_with_retry\u001b[49m\u001b[43m(\u001b[49m\n\u001b[1;32m    168\u001b[0m \u001b[43m        \u001b[49m\u001b[43mt\u001b[49m\u001b[43m,\u001b[49m\n\u001b[1;32m    169\u001b[0m \u001b[43m        \u001b[49m\u001b[43mretry_policy\u001b[49m\u001b[43m,\u001b[49m\n\u001b[1;32m    170\u001b[0m \u001b[43m        \u001b[49m\u001b[43mconfigurable\u001b[49m\u001b[38;5;241;43m=\u001b[39;49m\u001b[43m{\u001b[49m\n\u001b[1;32m    171\u001b[0m \u001b[43m            \u001b[49m\u001b[43mCONFIG_KEY_SEND\u001b[49m\u001b[43m:\u001b[49m\u001b[43m \u001b[49m\u001b[43mpartial\u001b[49m\u001b[43m(\u001b[49m\u001b[43mwriter\u001b[49m\u001b[43m,\u001b[49m\u001b[43m \u001b[49m\u001b[43mt\u001b[49m\u001b[43m)\u001b[49m\u001b[43m,\u001b[49m\n\u001b[1;32m    172\u001b[0m \u001b[43m            \u001b[49m\u001b[43mCONFIG_KEY_CALL\u001b[49m\u001b[43m:\u001b[49m\u001b[43m \u001b[49m\u001b[43mpartial\u001b[49m\u001b[43m(\u001b[49m\u001b[43mcall\u001b[49m\u001b[43m,\u001b[49m\u001b[43m \u001b[49m\u001b[43mt\u001b[49m\u001b[43m)\u001b[49m\u001b[43m,\u001b[49m\n\u001b[1;32m    173\u001b[0m \u001b[43m        \u001b[49m\u001b[43m}\u001b[49m\u001b[43m,\u001b[49m\n\u001b[1;32m    174\u001b[0m \u001b[43m    \u001b[49m\u001b[43m)\u001b[49m\n\u001b[1;32m    175\u001b[0m     \u001b[38;5;28mself\u001b[39m\u001b[38;5;241m.\u001b[39mcommit(t, \u001b[38;5;28;01mNone\u001b[39;00m)\n\u001b[1;32m    176\u001b[0m \u001b[38;5;28;01mexcept\u001b[39;00m \u001b[38;5;167;01mException\u001b[39;00m \u001b[38;5;28;01mas\u001b[39;00m exc:\n",
      "File \u001b[0;32m~/coding/feuyeux/hello-langgraph/lg_env/lib/python3.13/site-packages/langgraph/pregel/retry.py:40\u001b[0m, in \u001b[0;36mrun_with_retry\u001b[0;34m(task, retry_policy, configurable)\u001b[0m\n\u001b[1;32m     38\u001b[0m     task\u001b[38;5;241m.\u001b[39mwrites\u001b[38;5;241m.\u001b[39mclear()\n\u001b[1;32m     39\u001b[0m     \u001b[38;5;66;03m# run the task\u001b[39;00m\n\u001b[0;32m---> 40\u001b[0m     \u001b[38;5;28;01mreturn\u001b[39;00m \u001b[43mtask\u001b[49m\u001b[38;5;241;43m.\u001b[39;49m\u001b[43mproc\u001b[49m\u001b[38;5;241;43m.\u001b[39;49m\u001b[43minvoke\u001b[49m\u001b[43m(\u001b[49m\u001b[43mtask\u001b[49m\u001b[38;5;241;43m.\u001b[39;49m\u001b[43minput\u001b[49m\u001b[43m,\u001b[49m\u001b[43m \u001b[49m\u001b[43mconfig\u001b[49m\u001b[43m)\u001b[49m\n\u001b[1;32m     41\u001b[0m \u001b[38;5;28;01mexcept\u001b[39;00m ParentCommand \u001b[38;5;28;01mas\u001b[39;00m exc:\n\u001b[1;32m     42\u001b[0m     ns: \u001b[38;5;28mstr\u001b[39m \u001b[38;5;241m=\u001b[39m config[CONF][CONFIG_KEY_CHECKPOINT_NS]\n",
      "File \u001b[0;32m~/coding/feuyeux/hello-langgraph/lg_env/lib/python3.13/site-packages/langgraph/utils/runnable.py:408\u001b[0m, in \u001b[0;36mRunnableSeq.invoke\u001b[0;34m(self, input, config, **kwargs)\u001b[0m\n\u001b[1;32m    404\u001b[0m config \u001b[38;5;241m=\u001b[39m patch_config(\n\u001b[1;32m    405\u001b[0m     config, callbacks\u001b[38;5;241m=\u001b[39mrun_manager\u001b[38;5;241m.\u001b[39mget_child(\u001b[38;5;124mf\u001b[39m\u001b[38;5;124m\"\u001b[39m\u001b[38;5;124mseq:step:\u001b[39m\u001b[38;5;132;01m{\u001b[39;00mi\u001b[38;5;241m+\u001b[39m\u001b[38;5;241m1\u001b[39m\u001b[38;5;132;01m}\u001b[39;00m\u001b[38;5;124m\"\u001b[39m)\n\u001b[1;32m    406\u001b[0m )\n\u001b[1;32m    407\u001b[0m \u001b[38;5;28;01mif\u001b[39;00m i \u001b[38;5;241m==\u001b[39m \u001b[38;5;241m0\u001b[39m:\n\u001b[0;32m--> 408\u001b[0m     \u001b[38;5;28minput\u001b[39m \u001b[38;5;241m=\u001b[39m \u001b[43mstep\u001b[49m\u001b[38;5;241;43m.\u001b[39;49m\u001b[43minvoke\u001b[49m\u001b[43m(\u001b[49m\u001b[38;5;28;43minput\u001b[39;49m\u001b[43m,\u001b[49m\u001b[43m \u001b[49m\u001b[43mconfig\u001b[49m\u001b[43m,\u001b[49m\u001b[43m \u001b[49m\u001b[38;5;241;43m*\u001b[39;49m\u001b[38;5;241;43m*\u001b[39;49m\u001b[43mkwargs\u001b[49m\u001b[43m)\u001b[49m\n\u001b[1;32m    409\u001b[0m \u001b[38;5;28;01melse\u001b[39;00m:\n\u001b[1;32m    410\u001b[0m     \u001b[38;5;28minput\u001b[39m \u001b[38;5;241m=\u001b[39m step\u001b[38;5;241m.\u001b[39minvoke(\u001b[38;5;28minput\u001b[39m, config)\n",
      "File \u001b[0;32m~/coding/feuyeux/hello-langgraph/lg_env/lib/python3.13/site-packages/langgraph/utils/runnable.py:184\u001b[0m, in \u001b[0;36mRunnableCallable.invoke\u001b[0;34m(self, input, config, **kwargs)\u001b[0m\n\u001b[1;32m    182\u001b[0m \u001b[38;5;28;01melse\u001b[39;00m:\n\u001b[1;32m    183\u001b[0m     context\u001b[38;5;241m.\u001b[39mrun(_set_config_context, config)\n\u001b[0;32m--> 184\u001b[0m     ret \u001b[38;5;241m=\u001b[39m \u001b[43mcontext\u001b[49m\u001b[38;5;241;43m.\u001b[39;49m\u001b[43mrun\u001b[49m\u001b[43m(\u001b[49m\u001b[38;5;28;43mself\u001b[39;49m\u001b[38;5;241;43m.\u001b[39;49m\u001b[43mfunc\u001b[49m\u001b[43m,\u001b[49m\u001b[43m \u001b[49m\u001b[38;5;28;43minput\u001b[39;49m\u001b[43m,\u001b[49m\u001b[43m \u001b[49m\u001b[38;5;241;43m*\u001b[39;49m\u001b[38;5;241;43m*\u001b[39;49m\u001b[43mkwargs\u001b[49m\u001b[43m)\u001b[49m\n\u001b[1;32m    185\u001b[0m \u001b[38;5;28;01mif\u001b[39;00m \u001b[38;5;28misinstance\u001b[39m(ret, Runnable) \u001b[38;5;129;01mand\u001b[39;00m \u001b[38;5;28mself\u001b[39m\u001b[38;5;241m.\u001b[39mrecurse:\n\u001b[1;32m    186\u001b[0m     \u001b[38;5;28;01mreturn\u001b[39;00m ret\u001b[38;5;241m.\u001b[39minvoke(\u001b[38;5;28minput\u001b[39m, config)\n",
      "Cell \u001b[0;32mIn[7], line 84\u001b[0m, in \u001b[0;36mscore\u001b[0;34m(state)\u001b[0m\n\u001b[1;32m     82\u001b[0m scored \u001b[38;5;241m=\u001b[39m []\n\u001b[1;32m     83\u001b[0m \u001b[38;5;28;01mfor\u001b[39;00m candidate \u001b[38;5;129;01min\u001b[39;00m candidates:\n\u001b[0;32m---> 84\u001b[0m     scored\u001b[38;5;241m.\u001b[39mappend(\u001b[43mcompute_score\u001b[49m\u001b[43m(\u001b[49m\u001b[43mstate\u001b[49m\u001b[43m[\u001b[49m\u001b[38;5;124;43m\"\u001b[39;49m\u001b[38;5;124;43mproblem\u001b[39;49m\u001b[38;5;124;43m\"\u001b[39;49m\u001b[43m]\u001b[49m\u001b[43m,\u001b[49m\u001b[43m \u001b[49m\u001b[43mcandidate\u001b[49m\u001b[43m)\u001b[49m)\n\u001b[1;32m     85\u001b[0m \u001b[38;5;28;01mreturn\u001b[39;00m {\u001b[38;5;124m\"\u001b[39m\u001b[38;5;124mscored_candidates\u001b[39m\u001b[38;5;124m\"\u001b[39m: scored, \u001b[38;5;124m\"\u001b[39m\u001b[38;5;124mcandidates\u001b[39m\u001b[38;5;124m\"\u001b[39m: \u001b[38;5;124m\"\u001b[39m\u001b[38;5;124mclear\u001b[39m\u001b[38;5;124m\"\u001b[39m}\n",
      "Cell \u001b[0;32mIn[6], line 5\u001b[0m, in \u001b[0;36mcompute_score\u001b[0;34m(problem, candidate)\u001b[0m\n\u001b[1;32m      2\u001b[0m numbers \u001b[38;5;241m=\u001b[39m \u001b[38;5;28mlist\u001b[39m(\u001b[38;5;28mmap\u001b[39m(\u001b[38;5;28mint\u001b[39m, problem\u001b[38;5;241m.\u001b[39msplit()))\n\u001b[1;32m      3\u001b[0m \u001b[38;5;66;03m# Check that the candidate equation uses all 4 numbers exactly once\u001b[39;00m\n\u001b[1;32m      4\u001b[0m used_numbers \u001b[38;5;241m=\u001b[39m [\n\u001b[0;32m----> 5\u001b[0m     token \u001b[38;5;28;01mfor\u001b[39;00m token \u001b[38;5;129;01min\u001b[39;00m \u001b[43mcandidate\u001b[49m\u001b[38;5;241;43m.\u001b[39;49m\u001b[43mcandidate\u001b[49m\u001b[38;5;241m.\u001b[39mtokens \u001b[38;5;28;01mif\u001b[39;00m \u001b[38;5;28misinstance\u001b[39m(token, \u001b[38;5;28mfloat\u001b[39m)\n\u001b[1;32m      6\u001b[0m ]\n\u001b[1;32m      7\u001b[0m \u001b[38;5;28;01mif\u001b[39;00m \u001b[38;5;28msorted\u001b[39m(used_numbers) \u001b[38;5;241m!=\u001b[39m \u001b[38;5;28msorted\u001b[39m(numbers):\n\u001b[1;32m      8\u001b[0m     score \u001b[38;5;241m=\u001b[39m \u001b[38;5;241m0\u001b[39m\n",
      "\u001b[0;31mAttributeError\u001b[0m: 'list' object has no attribute 'candidate'",
      "\u001b[0mDuring task with name 'score' and id '4e3eb965-d40f-7e3e-b4bb-b9f36bda99fd'"
     ]
    }
   ],
   "source": [
    "config = {\n",
    "    \"configurable\": {\n",
    "        \"thread_id\": \"test_1\",\n",
    "        \"depth\": 5,\n",
    "        \"recursion_limit\": 100\n",
    "    }\n",
    "}\n",
    "for step in graph.stream({\"problem\": puzzles[42]}, config):\n",
    "    print(step)"
   ]
  },
  {
   "cell_type": "code",
   "execution_count": null,
   "metadata": {},
   "outputs": [],
   "source": [
    "final_state = graph.get_state(config)\n",
    "winning_solution = final_state.values[\"candidates\"][0]\n",
    "search_depth = final_state.values[\"depth\"]\n",
    "if winning_solution[1] == 1:\n",
    "    print(f\"Found a winning solution in {search_depth} steps: {winning_solution}\")\n",
    "else:\n",
    "    print(\n",
    "        f\"Failed to find a winning solution in {search_depth} steps. Best guess: {winning_solution}\"\n",
    "    )"
   ]
  }
 ],
 "metadata": {
  "kernelspec": {
   "display_name": "lg_env",
   "language": "python",
   "name": "python3"
  },
  "language_info": {
   "codemirror_mode": {
    "name": "ipython",
    "version": 3
   },
   "file_extension": ".py",
   "mimetype": "text/x-python",
   "name": "python",
   "nbconvert_exporter": "python",
   "pygments_lexer": "ipython3",
   "version": "3.12.4"
  }
 },
 "nbformat": 4,
 "nbformat_minor": 2
}
