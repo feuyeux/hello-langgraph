{
 "cells": [
  {
   "cell_type": "markdown",
   "metadata": {},
   "source": [
    "# ReAct\n",
    "\n",
    "![react](react.png)"
   ]
  },
  {
   "cell_type": "code",
   "execution_count": 2,
   "metadata": {},
   "outputs": [],
   "source": [
    "import datetime\n",
    "\n",
    "from dotenv import load_dotenv\n",
    "from langchain_community.chat_models import ChatZhipuAI\n",
    "\n",
    "load_dotenv()\n",
    "\n",
    "llm = ChatZhipuAI(model=\"GLM-4-Plus\")"
   ]
  },
  {
   "cell_type": "code",
   "execution_count": 3,
   "metadata": {},
   "outputs": [],
   "source": [
    "from langchain_community.tools.tavily_search import TavilySearchResults\n",
    "from langchain_community.tools import GoogleSerperResults\n",
    "from langchain_community.utilities.tavily_search import TavilySearchAPIWrapper\n",
    "from langchain_community.utilities import GoogleSerperAPIWrapper\n",
    "\n",
    "# https://python.langchain.com/docs/integrations/tools/\n",
    "\n",
    "# TAVILY_API_KEY\n",
    "# https://api.tavily.com\n",
    "tavily_search = TavilySearchResults(\n",
    "    api_wrapper=TavilySearchAPIWrapper(), max_results=3)\n",
    "\n",
    "# SERPER_API_KEY\n",
    "# https://serper.dev/api-key\n",
    "serper_search = GoogleSerperResults(\n",
    "    api_wrapper=GoogleSerperAPIWrapper(), max_results=3)\n",
    "\n",
    "# https://duckduckgo.com/ 梯子\n",
    "# duck_duck_go_search = DuckDuckGoSearchResults(max_results=3, output_format=\"json\")\n",
    "\n",
    "# https://github.com/searxng/searxng\n",
    "# https://github.com/searxng/searxng-docker\n",
    "# searx_search = SearxSearchResults(max_results=3)\n",
    "\n",
    "query = \"明年是中国农历什么年？\"\n",
    "\n",
    "# tavily_result = tavily_search.invoke({\"query\": query})\n",
    "# print(\"tavily_result\", tavily_result)\n",
    "# serper_result = serper_search.invoke({\"query\": query})\n",
    "# print(\"serper_result\", serper_result)"
   ]
  },
  {
   "cell_type": "code",
   "execution_count": null,
   "metadata": {},
   "outputs": [],
   "source": [
    "def get_weather(city_name: str):\n",
    "    \"\"\"获取天气信息的函数\"\"\"\n",
    "    weather_conditions = {\n",
    "        '北京': '晴朗',\n",
    "        '上海': '小雨',\n",
    "        '广州': '多云',\n",
    "    }\n",
    "    return weather_conditions.get(city_name, \"未知天气\")\n",
    "\n",
    "print(get_weather('北京'))"
   ]
  },
  {
   "cell_type": "code",
   "execution_count": null,
   "metadata": {},
   "outputs": [],
   "source": [
    "from langchain_core.prompts import ChatPromptTemplate, MessagesPlaceholder\n",
    "from langgraph.prebuilt import create_react_agent\n",
    "import json\n",
    "from IPython.display import Markdown, display\n",
    "\n",
    "prompt_template = ChatPromptTemplate.from_messages([\n",
    "    (\"system\",\n",
    "     \"\"\"你是靠谱的助理。对于给定的目标，制定一个简单的分步计划。\n",
    "     该计划应涉及单个任务，如果正确执行，将产生正确的答案。不要添加任何多余的步骤。\n",
    "     最后一步的结果应该是最终答案，如果需要提现时间需明确给出。确保每个步骤都包含所需的所有信息 - 不要跳过步骤。\n",
    "     必要时调用工具。\n",
    "     当前时间: {time}\"\"\"),\n",
    "    MessagesPlaceholder(\"messages\")\n",
    "]).partial(\n",
    "    time=lambda: datetime.datetime.now().isoformat(),\n",
    ")\n",
    "\n",
    "agent_executor = create_react_agent(\n",
    "    model=llm,\n",
    "    tools=[get_weather, serper_search],\n",
    "    state_modifier=prompt_template,\n",
    "    debug=True\n",
    ")\n",
    "\n",
    "response = agent_executor.invoke(\n",
    "    {\"messages\": [(\"user\", \"明天我要去中国的首都，后天要去中国的金融中心，帮我查询那里的天气。\")]}\n",
    ")\n",
    "\n",
    "formatted_response = json.dumps(\n",
    "    response['messages'],\n",
    "    default=lambda o: o.__dict__ if hasattr(o, '__dict__') else str(o),\n",
    "    indent=4,\n",
    "    ensure_ascii=False\n",
    ")\n",
    "display(Markdown(f\"```json\\n{formatted_response}\\n```\"))"
   ]
  }
 ],
 "metadata": {
  "kernelspec": {
   "display_name": "lg_env",
   "language": "python",
   "name": "python3"
  },
  "language_info": {
   "codemirror_mode": {
    "name": "ipython",
    "version": 3
   },
   "file_extension": ".py",
   "mimetype": "text/x-python",
   "name": "python",
   "nbconvert_exporter": "python",
   "pygments_lexer": "ipython3",
   "version": "3.13.0"
  }
 },
 "nbformat": 4,
 "nbformat_minor": 2
}
